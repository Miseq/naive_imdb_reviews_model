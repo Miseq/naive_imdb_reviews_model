{
  "nbformat": 4,
  "nbformat_minor": 0,
  "metadata": {
    "colab": {
      "name": "naive_imdb_model.ipynb",
      "provenance": [],
      "toc_visible": true,
      "mount_file_id": "1eLALozL9-IOXrqhgLKVLcsAwW6IPFLwi",
      "authorship_tag": "ABX9TyNv63+efduBkgzR3ZuX/gUM",
      "include_colab_link": true
    },
    "kernelspec": {
      "name": "python3",
      "display_name": "Python 3"
    }
  },
  "cells": [
    {
      "cell_type": "markdown",
      "metadata": {
        "id": "view-in-github",
        "colab_type": "text"
      },
      "source": [
        "<a href=\"https://colab.research.google.com/github/Miseq/naive_imdb_reviews_model/blob/master/naive_imdb_model.ipynb\" target=\"_parent\"><img src=\"https://colab.research.google.com/assets/colab-badge.svg\" alt=\"Open In Colab\"/></a>"
      ]
    },
    {
      "cell_type": "code",
      "metadata": {
        "id": "7oBEDSWvIRc0",
        "colab_type": "code",
        "colab": {}
      },
      "source": [
        "from keras.datasets import imdb\n",
        "from keras import optimizers\n",
        "from keras import losses\n",
        "from keras import metrics\n",
        "from keras import models\n",
        "from keras import layers\n",
        "import matplotlib.pyplot as plt\n",
        "\n",
        "import numpy as np"
      ],
      "execution_count": 0,
      "outputs": []
    },
    {
      "cell_type": "code",
      "metadata": {
        "id": "2q_VYS2uIVux",
        "colab_type": "code",
        "colab": {}
      },
      "source": [
        "def vectorize_data(data, dimension=10000):\n",
        "    result = np.zeros((len(data), dimension))\n",
        "    for i, seq in enumerate(data):\n",
        "        result[i, seq] = 1.\n",
        "    return result"
      ],
      "execution_count": 0,
      "outputs": []
    },
    {
      "cell_type": "code",
      "metadata": {
        "id": "qWbsqx3ST0Qp",
        "colab_type": "code",
        "colab": {}
      },
      "source": [
        "(train_data, train_labels), (test_data, test_labels) = imdb.load_data(num_words=10000)\n"
      ],
      "execution_count": 0,
      "outputs": []
    },
    {
      "cell_type": "code",
      "metadata": {
        "id": "S23Y6GgZUk9w",
        "colab_type": "code",
        "colab": {}
      },
      "source": [
        "x_train = vectorize_data(train_data)\n",
        "x_test = vectorize_data(test_data)\n",
        "\n",
        "y_train = np.asarray(train_labels).astype('float32')\n",
        "y_test = np.asarray(test_labels).astype('float32')"
      ],
      "execution_count": 0,
      "outputs": []
    },
    {
      "cell_type": "code",
      "metadata": {
        "id": "buSsS9jpT5NT",
        "colab_type": "code",
        "colab": {}
      },
      "source": [
        "model = models.Sequential()\n",
        "model.add(layers.Dense(16, activation='relu', input_shape=(10000,)))\n",
        "model.add(layers.Dense(1, activation='sigmoid'))\n",
        "model.compile(optimizer=optimizers.RMSprop(lr=0.001), loss=losses.binary_crossentropy, metrics=['accuracy'])"
      ],
      "execution_count": 0,
      "outputs": []
    },
    {
      "cell_type": "code",
      "metadata": {
        "id": "ISjOv7WYT66j",
        "colab_type": "code",
        "outputId": "40aa733d-a2f4-4a59-ed7a-dd7ea6449c9d",
        "colab": {
          "base_uri": "https://localhost:8080/",
          "height": 706
        }
      },
      "source": [
        "x_val = x_train[:20000]\n",
        "partial_x_train = x_train[20000:]\n",
        "\n",
        "y_val = y_train[:20000]\n",
        "partial_y_train = y_train[20000:]\n",
        "\n",
        "history = model.fit(partial_x_train, partial_y_train, epochs=20, batch_size=512, validation_data=(x_val, y_val))"
      ],
      "execution_count": 28,
      "outputs": [
        {
          "output_type": "stream",
          "text": [
            "Train on 5000 samples, validate on 20000 samples\n",
            "Epoch 1/20\n",
            "5000/5000 [==============================] - 2s 451us/step - loss: 0.6326 - acc: 0.6700 - val_loss: 0.5478 - val_acc: 0.8269\n",
            "Epoch 2/20\n",
            "5000/5000 [==============================] - 2s 400us/step - loss: 0.4662 - acc: 0.8814 - val_loss: 0.4704 - val_acc: 0.8316\n",
            "Epoch 3/20\n",
            "5000/5000 [==============================] - 2s 401us/step - loss: 0.3648 - acc: 0.9076 - val_loss: 0.4142 - val_acc: 0.8445\n",
            "Epoch 4/20\n",
            "5000/5000 [==============================] - 2s 407us/step - loss: 0.2858 - acc: 0.9364 - val_loss: 0.3652 - val_acc: 0.8655\n",
            "Epoch 5/20\n",
            "5000/5000 [==============================] - 2s 407us/step - loss: 0.2300 - acc: 0.9528 - val_loss: 0.3373 - val_acc: 0.8712\n",
            "Epoch 6/20\n",
            "5000/5000 [==============================] - 2s 402us/step - loss: 0.1875 - acc: 0.9638 - val_loss: 0.3312 - val_acc: 0.8663\n",
            "Epoch 7/20\n",
            "5000/5000 [==============================] - 2s 405us/step - loss: 0.1462 - acc: 0.9748 - val_loss: 0.3177 - val_acc: 0.8695\n",
            "Epoch 8/20\n",
            "5000/5000 [==============================] - 2s 400us/step - loss: 0.1219 - acc: 0.9802 - val_loss: 0.3105 - val_acc: 0.8735\n",
            "Epoch 9/20\n",
            "5000/5000 [==============================] - 2s 405us/step - loss: 0.0933 - acc: 0.9910 - val_loss: 0.3210 - val_acc: 0.8680\n",
            "Epoch 10/20\n",
            "5000/5000 [==============================] - 2s 405us/step - loss: 0.0779 - acc: 0.9938 - val_loss: 0.3201 - val_acc: 0.8701\n",
            "Epoch 11/20\n",
            "5000/5000 [==============================] - 2s 400us/step - loss: 0.0609 - acc: 0.9956 - val_loss: 0.3244 - val_acc: 0.8688\n",
            "Epoch 12/20\n",
            "5000/5000 [==============================] - 2s 397us/step - loss: 0.0460 - acc: 0.9976 - val_loss: 0.3414 - val_acc: 0.8666\n",
            "Epoch 13/20\n",
            "5000/5000 [==============================] - 2s 396us/step - loss: 0.0401 - acc: 0.9976 - val_loss: 0.3702 - val_acc: 0.8595\n",
            "Epoch 14/20\n",
            "5000/5000 [==============================] - 2s 397us/step - loss: 0.0284 - acc: 0.9988 - val_loss: 0.3639 - val_acc: 0.8639\n",
            "Epoch 15/20\n",
            "5000/5000 [==============================] - 2s 398us/step - loss: 0.0223 - acc: 0.9990 - val_loss: 0.3771 - val_acc: 0.8640\n",
            "Epoch 16/20\n",
            "5000/5000 [==============================] - 2s 392us/step - loss: 0.0184 - acc: 0.9990 - val_loss: 0.4321 - val_acc: 0.8571\n",
            "Epoch 17/20\n",
            "5000/5000 [==============================] - 2s 398us/step - loss: 0.0127 - acc: 0.9994 - val_loss: 0.4118 - val_acc: 0.8617\n",
            "Epoch 18/20\n",
            "5000/5000 [==============================] - 2s 398us/step - loss: 0.0095 - acc: 0.9996 - val_loss: 0.4326 - val_acc: 0.8603\n",
            "Epoch 19/20\n",
            "5000/5000 [==============================] - 2s 395us/step - loss: 0.0067 - acc: 1.0000 - val_loss: 0.4570 - val_acc: 0.8583\n",
            "Epoch 20/20\n",
            "5000/5000 [==============================] - 2s 396us/step - loss: 0.0048 - acc: 1.0000 - val_loss: 0.4997 - val_acc: 0.8546\n"
          ],
          "name": "stdout"
        }
      ]
    },
    {
      "cell_type": "code",
      "metadata": {
        "id": "egoyrbRyUIDi",
        "colab_type": "code",
        "outputId": "6f81a13d-0297-46e4-d662-5fc1657fef1b",
        "colab": {
          "base_uri": "https://localhost:8080/",
          "height": 34
        }
      },
      "source": [
        "history_dict = history.history\n",
        "history_dict.keys()"
      ],
      "execution_count": 29,
      "outputs": [
        {
          "output_type": "execute_result",
          "data": {
            "text/plain": [
              "dict_keys(['val_loss', 'val_acc', 'loss', 'acc'])"
            ]
          },
          "metadata": {
            "tags": []
          },
          "execution_count": 29
        }
      ]
    },
    {
      "cell_type": "code",
      "metadata": {
        "id": "e7tDGCzesoVk",
        "colab_type": "code",
        "colab": {}
      },
      "source": [
        "acc = history.history['acc']\n",
        "val_acc = history.history['val_acc']\n",
        "loss = history.history['loss']\n",
        "val_loss = history.history['val_loss']\n",
        "\n",
        "epochs = range(1, len(acc)+1)"
      ],
      "execution_count": 0,
      "outputs": []
    },
    {
      "cell_type": "code",
      "metadata": {
        "id": "uVbQWDmwtn0H",
        "colab_type": "code",
        "outputId": "e25046ce-e938-43a1-ada6-451993a1e574",
        "colab": {
          "base_uri": "https://localhost:8080/",
          "height": 295
        }
      },
      "source": [
        "# Tworzenie wykresu start tenowania i walidacji\n",
        "plt.plot(epochs, loss, 'bo', label='Strata trenowania')\n",
        "plt.plot(epochs, val_loss, 'b', label='Strata walidacji')\n",
        "plt.title('Strata renowania i walidacji')\n",
        "plt.xlabel('Epoki')\n",
        "plt.ylabel('Strata')\n",
        "plt.legend()\n",
        "plt.show()"
      ],
      "execution_count": 31,
      "outputs": [
        {
          "output_type": "display_data",
          "data": {
            "image/png": "[encoded data removed]",
            "text/plain": [
              "<Figure size 432x288 with 1 Axes>"
            ]
          },
          "metadata": {
            "tags": []
          }
        }
      ]
    },
    {
      "cell_type": "code",
      "metadata": {
        "id": "kfwYPpKfuSUu",
        "colab_type": "code",
        "colab": {
          "base_uri": "https://localhost:8080/",
          "height": 295
        },
        "outputId": "b2c9fb51-f8c5-4bcd-e4dd-8733d177e5d6"
      },
      "source": [
        "# Tworzenie wykresu dokładności trenowania i walidacji\n",
        "plt.clf() # Czyszczenie rysunku(wazne)\n",
        "acc_values = history_dict['acc']\n",
        "val_acc_vales = history_dict['val_acc']\n",
        "\n",
        "plt.plot(epochs, acc, 'bo', label='Dokladnosc trenowania')\n",
        "plt.plot(epochs, val_acc, 'b', label='Dokladnosc walidacji')\n",
        "plt.title('Dokladnosc trenowania i walidacji')\n",
        "plt.xlabel('Epoki')\n",
        "plt.ylabel('Strata')\n",
        "plt.legend()\n",
        "\n",
        "plt.show()"
      ],
      "execution_count": 32,
      "outputs": [
        {
          "output_type": "display_data",
          "data": {
            "image/png": "[encoded data removed]",
            "text/plain": [
              "<Figure size 432x288 with 1 Axes>"
            ]
          },
          "metadata": {
            "tags": []
          }
        }
      ]
    },
    {
      "cell_type": "code",
      "metadata": {
        "id": "6VXw-kh1wzce",
        "colab_type": "code",
        "colab": {
          "base_uri": "https://localhost:8080/",
          "height": 34
        },
        "outputId": "332c5b89-4a57-4cec-f335-7f73fbc3b7ea"
      },
      "source": [
        "min_loss_val = min(val_loss)\n",
        "max_acc_val = max(val_acc)\n",
        "\n",
        "min_loss_ix = val_loss.index(min_loss_val)\n",
        "max_acc_ix = val_acc.index(max_acc_val)\n",
        "print(f'{min_loss_ix} --- {max_acc_ix}')"
      ],
      "execution_count": 33,
      "outputs": [
        {
          "output_type": "stream",
          "text": [
            "7 --- 7\n"
          ],
          "name": "stdout"
        }
      ]
    },
    {
      "cell_type": "markdown",
      "metadata": {
        "id": "7xVt-js_yeHV",
        "colab_type": "text"
      },
      "source": [
        "Po 7 epoce model zaczyna być przetrenowany"
      ]
    },
    {
      "cell_type": "code",
      "metadata": {
        "id": "XiyCxgCGySoo",
        "colab_type": "code",
        "colab": {
          "base_uri": "https://localhost:8080/",
          "height": 286
        },
        "outputId": "b22c814b-27fb-45c9-c357-7e9da64639b3"
      },
      "source": [
        "model.fit(x_train, y_train, epochs=7, batch_size=512, validation_data=(x_val, y_val))"
      ],
      "execution_count": 34,
      "outputs": [
        {
          "output_type": "stream",
          "text": [
            "Train on 25000 samples, validate on 20000 samples\n",
            "Epoch 1/7\n",
            "25000/25000 [==============================] - 5s 180us/step - loss: 0.3325 - acc: 0.8933 - val_loss: 0.2550 - val_acc: 0.9036\n",
            "Epoch 2/7\n",
            "25000/25000 [==============================] - 4s 174us/step - loss: 0.2126 - acc: 0.9207 - val_loss: 0.1963 - val_acc: 0.9266\n",
            "Epoch 3/7\n",
            "25000/25000 [==============================] - 4s 174us/step - loss: 0.1730 - acc: 0.9357 - val_loss: 0.1623 - val_acc: 0.9403\n",
            "Epoch 4/7\n",
            "25000/25000 [==============================] - 4s 176us/step - loss: 0.1441 - acc: 0.9458 - val_loss: 0.1304 - val_acc: 0.9542\n",
            "Epoch 5/7\n",
            "25000/25000 [==============================] - 4s 173us/step - loss: 0.1204 - acc: 0.9555 - val_loss: 0.1144 - val_acc: 0.9587\n",
            "Epoch 6/7\n",
            "25000/25000 [==============================] - 4s 172us/step - loss: 0.1027 - acc: 0.9640 - val_loss: 0.0872 - val_acc: 0.9725\n",
            "Epoch 7/7\n",
            "25000/25000 [==============================] - 4s 175us/step - loss: 0.0857 - acc: 0.9708 - val_loss: 0.0732 - val_acc: 0.9777\n"
          ],
          "name": "stdout"
        },
        {
          "output_type": "execute_result",
          "data": {
            "text/plain": [
              "<keras.callbacks.History at 0x7f3bc8a10550>"
            ]
          },
          "metadata": {
            "tags": []
          },
          "execution_count": 34
        }
      ]
    },
    {
      "cell_type": "code",
      "metadata": {
        "id": "3A9JNpAdzhP4",
        "colab_type": "code",
        "colab": {
          "base_uri": "https://localhost:8080/",
          "height": 34
        },
        "outputId": "c69b9423-5d6e-4cb5-8465-aee6d0e67fa6"
      },
      "source": [
        "results = model.evaluate(x_test, y_test)"
      ],
      "execution_count": 35,
      "outputs": [
        {
          "output_type": "stream",
          "text": [
            "25000/25000 [==============================] - 2s 72us/step\n"
          ],
          "name": "stdout"
        }
      ]
    },
    {
      "cell_type": "code",
      "metadata": {
        "id": "gAimoMvozlcA",
        "colab_type": "code",
        "colab": {
          "base_uri": "https://localhost:8080/",
          "height": 34
        },
        "outputId": "dbe1932d-a458-40a1-ab55-a1aef3bfd592"
      },
      "source": [
        "results"
      ],
      "execution_count": 36,
      "outputs": [
        {
          "output_type": "execute_result",
          "data": {
            "text/plain": [
              "[0.43132546721458437, 0.86596]"
            ]
          },
          "metadata": {
            "tags": []
          },
          "execution_count": 36
        }
      ]
    },
    {
      "cell_type": "markdown",
      "metadata": {
        "id": "PYbKFwE72x4v",
        "colab_type": "text"
      },
      "source": [
        "## Wiecej warstw ukrytych"
      ]
    },
    {
      "cell_type": "code",
      "metadata": {
        "id": "4Y2iz0Ngzz89",
        "colab_type": "code",
        "colab": {}
      },
      "source": [
        "model = models.Sequential()\n",
        "model.add(layers.Dense(16, activation='relu', input_shape=(10000,)))\n",
        "model.add(layers.Dense(8, activation='relu'))\n",
        "model.add(layers.Dense(4, activation='relu'))\n",
        "model.add(layers.Dense(1, activation='sigmoid'))\n",
        "model.compile(optimizer=optimizers.RMSprop(lr=0.001), loss=losses.binary_crossentropy, metrics=['accuracy'])"
      ],
      "execution_count": 0,
      "outputs": []
    },
    {
      "cell_type": "code",
      "metadata": {
        "id": "QQ-995vj3INj",
        "colab_type": "code",
        "colab": {
          "base_uri": "https://localhost:8080/",
          "height": 386
        },
        "outputId": "e3f280f2-0e1e-4043-f9dd-9c741acee976"
      },
      "source": [
        "model.fit(x_train, y_train, epochs=10, batch_size=512, validation_data=(x_val, y_val))\n",
        "results = model.evaluate(x_test, y_test)"
      ],
      "execution_count": 46,
      "outputs": [
        {
          "output_type": "stream",
          "text": [
            "Train on 25000 samples, validate on 20000 samples\n",
            "Epoch 1/10\n",
            "25000/25000 [==============================] - 5s 195us/step - loss: 0.4693 - acc: 0.8129 - val_loss: 0.2898 - val_acc: 0.9149\n",
            "Epoch 2/10\n",
            "25000/25000 [==============================] - 4s 173us/step - loss: 0.2685 - acc: 0.9068 - val_loss: 0.1943 - val_acc: 0.9414\n",
            "Epoch 3/10\n",
            "25000/25000 [==============================] - 4s 174us/step - loss: 0.2045 - acc: 0.9293 - val_loss: 0.1768 - val_acc: 0.9363\n",
            "Epoch 4/10\n",
            "25000/25000 [==============================] - 4s 173us/step - loss: 0.1681 - acc: 0.9418 - val_loss: 0.1281 - val_acc: 0.9627\n",
            "Epoch 5/10\n",
            "25000/25000 [==============================] - 4s 172us/step - loss: 0.1484 - acc: 0.9493 - val_loss: 0.1158 - val_acc: 0.9645\n",
            "Epoch 6/10\n",
            "25000/25000 [==============================] - 4s 173us/step - loss: 0.1293 - acc: 0.9563 - val_loss: 0.1697 - val_acc: 0.9266\n",
            "Epoch 7/10\n",
            "25000/25000 [==============================] - 4s 170us/step - loss: 0.1152 - acc: 0.9608 - val_loss: 0.1043 - val_acc: 0.9665\n",
            "Epoch 8/10\n",
            "25000/25000 [==============================] - 4s 173us/step - loss: 0.1059 - acc: 0.9652 - val_loss: 0.0746 - val_acc: 0.9804\n",
            "Epoch 9/10\n",
            "25000/25000 [==============================] - 4s 173us/step - loss: 0.0958 - acc: 0.9692 - val_loss: 0.0685 - val_acc: 0.9820\n",
            "Epoch 10/10\n",
            "25000/25000 [==============================] - 4s 170us/step - loss: 0.0849 - acc: 0.9727 - val_loss: 0.0665 - val_acc: 0.9824\n",
            "25000/25000 [==============================] - 2s 72us/step\n"
          ],
          "name": "stdout"
        }
      ]
    },
    {
      "cell_type": "code",
      "metadata": {
        "id": "zK7kmGA93L9c",
        "colab_type": "code",
        "colab": {
          "base_uri": "https://localhost:8080/",
          "height": 34
        },
        "outputId": "f285e181-d85a-49ac-e22a-747396937625"
      },
      "source": [
        "results"
      ],
      "execution_count": 47,
      "outputs": [
        {
          "output_type": "execute_result",
          "data": {
            "text/plain": [
              "[0.456285101146698, 0.85772]"
            ]
          },
          "metadata": {
            "tags": []
          },
          "execution_count": 47
        }
      ]
    },
    {
      "cell_type": "markdown",
      "metadata": {
        "id": "2IcfTPkA3qvI",
        "colab_type": "text"
      },
      "source": [
        "## Wieksza ilosc jednostek ukrytych"
      ]
    },
    {
      "cell_type": "code",
      "metadata": {
        "id": "5-uzTOSt3Mft",
        "colab_type": "code",
        "colab": {
          "base_uri": "https://localhost:8080/",
          "height": 403
        },
        "outputId": "827bd1f7-2a1a-4117-c7d3-02644f937b2f"
      },
      "source": [
        "model = models.Sequential()\n",
        "model.add(layers.Dense(64, activation='relu', input_shape=(10000,)))\n",
        "model.add(layers.Dense(32, activation='relu'))\n",
        "model.add(layers.Dense(16, activation='relu'))\n",
        "model.add(layers.Dense(1, activation='sigmoid'))\n",
        "model.compile(optimizer=optimizers.RMSprop(lr=0.001), loss=losses.binary_crossentropy, metrics=['accuracy'])\n",
        "\n",
        "model.fit(x_train, y_train, epochs=10, batch_size=512, validation_data=(x_val, y_val))\n",
        "results = model.evaluate(x_test, y_test)\n",
        "\n",
        "results"
      ],
      "execution_count": 48,
      "outputs": [
        {
          "output_type": "stream",
          "text": [
            "Train on 25000 samples, validate on 20000 samples\n",
            "Epoch 1/10\n",
            "25000/25000 [==============================] - 6s 243us/step - loss: 0.4332 - acc: 0.8121 - val_loss: 0.2595 - val_acc: 0.9055\n",
            "Epoch 2/10\n",
            "25000/25000 [==============================] - 5s 217us/step - loss: 0.2454 - acc: 0.9061 - val_loss: 0.1678 - val_acc: 0.9447\n",
            "Epoch 3/10\n",
            "25000/25000 [==============================] - 5s 213us/step - loss: 0.1899 - acc: 0.9277 - val_loss: 0.1523 - val_acc: 0.9448\n",
            "Epoch 4/10\n",
            "25000/25000 [==============================] - 5s 212us/step - loss: 0.1546 - acc: 0.9405 - val_loss: 0.1261 - val_acc: 0.9543\n",
            "Epoch 5/10\n",
            "25000/25000 [==============================] - 5s 217us/step - loss: 0.1230 - acc: 0.9549 - val_loss: 0.0732 - val_acc: 0.9782\n",
            "Epoch 6/10\n",
            "25000/25000 [==============================] - 5s 216us/step - loss: 0.1051 - acc: 0.9616 - val_loss: 0.0589 - val_acc: 0.9832\n",
            "Epoch 7/10\n",
            "25000/25000 [==============================] - 5s 217us/step - loss: 0.0836 - acc: 0.9698 - val_loss: 0.0770 - val_acc: 0.9722\n",
            "Epoch 8/10\n",
            "25000/25000 [==============================] - 5s 219us/step - loss: 0.0613 - acc: 0.9788 - val_loss: 0.0314 - val_acc: 0.9929\n",
            "Epoch 9/10\n",
            "25000/25000 [==============================] - 5s 217us/step - loss: 0.0475 - acc: 0.9845 - val_loss: 0.0417 - val_acc: 0.9879\n",
            "Epoch 10/10\n",
            "25000/25000 [==============================] - 5s 216us/step - loss: 0.0377 - acc: 0.9902 - val_loss: 0.0143 - val_acc: 0.9979\n",
            "25000/25000 [==============================] - 2s 88us/step\n"
          ],
          "name": "stdout"
        },
        {
          "output_type": "execute_result",
          "data": {
            "text/plain": [
              "[0.5749954341518879, 0.85908]"
            ]
          },
          "metadata": {
            "tags": []
          },
          "execution_count": 48
        }
      ]
    },
    {
      "cell_type": "markdown",
      "metadata": {
        "id": "VeMS6rKq4Vf-",
        "colab_type": "text"
      },
      "source": [
        "## Funkcja straty mse"
      ]
    },
    {
      "cell_type": "code",
      "metadata": {
        "id": "OlWmEkqY39GR",
        "colab_type": "code",
        "colab": {
          "base_uri": "https://localhost:8080/",
          "height": 403
        },
        "outputId": "fec3c753-5d10-4d9b-f10b-1a9dea986842"
      },
      "source": [
        "model = models.Sequential()\n",
        "model.add(layers.Dense(64, activation='relu', input_shape=(10000,)))\n",
        "model.add(layers.Dense(32, activation='relu'))\n",
        "model.add(layers.Dense(16, activation='relu'))\n",
        "model.add(layers.Dense(1, activation='sigmoid'))\n",
        "model.compile(optimizer=optimizers.RMSprop(lr=0.001), loss=losses.mse, metrics=['accuracy'])\n",
        "\n",
        "model.fit(x_train, y_train, epochs=10, batch_size=512, validation_data=(x_val, y_val))\n",
        "results = model.evaluate(x_test, y_test)\n",
        "\n",
        "results"
      ],
      "execution_count": 49,
      "outputs": [
        {
          "output_type": "stream",
          "text": [
            "Train on 25000 samples, validate on 20000 samples\n",
            "Epoch 1/10\n",
            "25000/25000 [==============================] - 6s 240us/step - loss: 0.1502 - acc: 0.8012 - val_loss: 0.0788 - val_acc: 0.9103\n",
            "Epoch 2/10\n",
            "25000/25000 [==============================] - 5s 214us/step - loss: 0.0760 - acc: 0.9044 - val_loss: 0.0499 - val_acc: 0.9434\n",
            "Epoch 3/10\n",
            "25000/25000 [==============================] - 5s 214us/step - loss: 0.0576 - acc: 0.9267 - val_loss: 0.0397 - val_acc: 0.9535\n",
            "Epoch 4/10\n",
            "25000/25000 [==============================] - 5s 211us/step - loss: 0.0463 - acc: 0.9422 - val_loss: 0.0295 - val_acc: 0.9670\n",
            "Epoch 5/10\n",
            "25000/25000 [==============================] - 5s 212us/step - loss: 0.0392 - acc: 0.9509 - val_loss: 0.0253 - val_acc: 0.9718\n",
            "Epoch 6/10\n",
            "25000/25000 [==============================] - 5s 206us/step - loss: 0.0323 - acc: 0.9610 - val_loss: 0.0270 - val_acc: 0.9699\n",
            "Epoch 7/10\n",
            "25000/25000 [==============================] - 5s 205us/step - loss: 0.0255 - acc: 0.9704 - val_loss: 0.0164 - val_acc: 0.9837\n",
            "Epoch 8/10\n",
            "25000/25000 [==============================] - 5s 207us/step - loss: 0.0223 - acc: 0.9746 - val_loss: 0.0114 - val_acc: 0.9890\n",
            "Epoch 9/10\n",
            "25000/25000 [==============================] - 5s 207us/step - loss: 0.0181 - acc: 0.9794 - val_loss: 0.0144 - val_acc: 0.9864\n",
            "Epoch 10/10\n",
            "25000/25000 [==============================] - 5s 208us/step - loss: 0.0132 - acc: 0.9856 - val_loss: 0.0071 - val_acc: 0.9933\n",
            "25000/25000 [==============================] - 2s 87us/step\n"
          ],
          "name": "stdout"
        },
        {
          "output_type": "execute_result",
          "data": {
            "text/plain": [
              "[0.10705944943904877, 0.86808]"
            ]
          },
          "metadata": {
            "tags": []
          },
          "execution_count": 49
        }
      ]
    },
    {
      "cell_type": "code",
      "metadata": {
        "id": "zPhL7D1G4ntl",
        "colab_type": "code",
        "colab": {}
      },
      "source": [
        ""
      ],
      "execution_count": 0,
      "outputs": []
    }
  ]
}